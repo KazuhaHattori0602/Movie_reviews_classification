{
 "cells": [
  {
   "cell_type": "code",
   "execution_count": 1,
   "metadata": {},
   "outputs": [
    {
     "name": "stdout",
     "output_type": "stream",
     "text": [
      "importing Jupyter notebook from clean_data.ipynb\n",
      "importing Jupyter notebook from bag_of_word.ipynb\n",
      "importing Jupyter notebook from pickle_file.ipynb\n",
      "importing Jupyter notebook from training_model.ipynb\n",
      "importing Jupyter notebook from tf_idf.ipynb\n"
     ]
    }
   ],
   "source": [
    "import import_ipynb\n",
    "import clean_data as CD\n",
    "import bag_of_word as BOW\n",
    "import pickle_file as PF\n",
    "import training_model as TM\n",
    "import tf_idf"
   ]
  },
  {
   "cell_type": "code",
   "execution_count": 2,
   "metadata": {},
   "outputs": [],
   "source": [
    "def main():\n",
    "    train_path = r'train'\n",
    "    test_path = r'test'\n",
    "    '''\n",
    "    CD.clean_data(train_path)\n",
    "    CD.clean_data(test_path)\n",
    "    vocab_list, list_of_words_id = BOW.bag_of_words(train_path)\n",
    "    PF.dump_to_file(r'../pickle/vocab_list.pickle', vocab_list)\n",
    "    PF.dump_to_file(r'../pickle/list_of_words_id.pickle', list_of_words_id)\n",
    "    \n",
    "    list_of_word_fre = BOW.text2vec(vocab_list, list_of_words_id)\n",
    "    PF.dump_to_file(r'../pickle/train_list_of_word_fre.pickle', list_of_word_fre)\n",
    "    neg_pretrain_dict, pos_pretrain_dict = TM.train(list_of_word_fre, training_vocab_size, 12500)\n",
    "    PF.dump_to_file(r'../pickle/neg_pretrain_dict.pickle', neg_pretrain_dict)\n",
    "    PF.dump_to_file(r'../pickle/pos_pretrain_dict.pickle', pos_pretrain_dict)\n",
    "    list_of_words_id = PF.load_from_file(r'../pickle/list_of_words_id.pickle')\n",
    "    list_of_word_fre = PF.load_from_file(r'../pickle/train_list_of_word_fre.pickle')\n",
    "    \n",
    "    test_list_of_words_id = BOW.bag_of_words_for_test(test_path, vocab_list)\n",
    "    print ('len test_list_of_words_id = ', len(test_list_of_words_id))\n",
    "    PF.dump_to_file(r'../pickle/test_list_of_words_id.pickle', test_list_of_words_id)\n",
    "    test_list_of_word_fre = BOW.text2vec(vocab_list, test_list_of_words_id)\n",
    "    PF.dump_to_file(r'../pickle/test_list_of_word_fre.pickle', test_list_of_word_fre)\n",
    "    '''\n",
    "    vocab_list = PF.load_from_file(r'../pickle/vocab_list.pickle')\n",
    "    training_vocab_size = len(vocab_list)\n",
    "    test_list_of_word_fre = PF.load_from_file(r'../pickle/test_list_of_word_fre.pickle')\n",
    "    test_labels = TM.set_label(12500,12500,'neg','pos')\n",
    "    neg_pretrain_dict = PF.load_from_file(r'../pickle/neg_pretrain_dict.pickle')\n",
    "    pos_pretrain_dict = PF.load_from_file(r'../pickle/pos_pretrain_dict.pickle')\n",
    "    accuracy = TM.predict(neg_pretrain_dict, pos_pretrain_dict, test_list_of_word_fre, test_labels)\n",
    "    print ('Accuracy with no tf-idf = {} %'.format(accuracy * 100))\n",
    "    #----------------------------tf-idf------------------------------------------------\n",
    "    train_list_of_word_fre = PF.load_from_file(r'../pickle/train_list_of_word_fre.pickle')\n",
    "    train_list_of_tf_idf = tf_idf.compute_TF_IDF(train_list_of_word_fre, training_vocab_size)\n",
    "    print ('len train = ', len(train_list_of_word_fre))\n",
    "    print ('len test = ', len(test_list_of_word_fre))\n",
    "    tf_idf_neg_pretrain_dict, tf_idf_pos_pretrain_dict = TM.train(train_list_of_tf_idf, training_vocab_size, 12500)\n",
    "    '''\n",
    "    PF.dump_to_file(r'../pickle/tf_idf_neg_pretrain_dict.pickle', tf_idf_neg_pretrain_dict)\n",
    "    PF.dump_to_file(r'../pickle/tf_idf_pos_pretrain_dict.pickle', tf_idf_pos_pretrain_dict)\n",
    "    '''\n",
    "    test_list_of_tf_idf = tf_idf.compute_TF_IDF(test_list_of_word_fre, training_vocab_size)\n",
    "    accuracy = TM.predict(tf_idf_neg_pretrain_dict, tf_idf_pos_pretrain_dict, test_list_of_tf_idf, test_labels)\n",
    "    print ('Accuracy with tf-idf = {} %'.format(accuracy * 100))\n",
    "    '''\n",
    "    non_tf_idf_train_data = TM.convert(list_of_word_fre, training_vocab_size)\n",
    "    train_labels = TM.set_label(12500,12500)\n",
    "    clf_without_tf_idf = TM.train_for_clf(non_tf_idf_train_data, train_labels)\n",
    "    #Calculate TF-IDF\n",
    "    list_of_tf_idf = tf_idf.compute_TF_IDF(list_of_word_fre, training_vocab_size)\n",
    "    tf_idf_train_data = TM.convert(list_of_tf_idf, training_vocab_size)\n",
    "    clf_with_tf_idf = TM.train_for_clf(tf_idf_train_data, train_labels)\n",
    "    '''\n",
    "    "
   ]
  },
  {
   "cell_type": "code",
   "execution_count": 3,
   "metadata": {},
   "outputs": [
    {
     "name": "stdout",
     "output_type": "stream",
     "text": [
      "Accuracy with no tf-idf = 78.388 %\n",
      "Computing TF\n",
      "Finish computing TF\n",
      "Computing IDF\n",
      "Done computing IDF\n",
      "Computing TF_IDF\n",
      "Done computing TF_IDF\n",
      "len train =  25000\n",
      "len test =  25000\n",
      "Training neg data\n",
      "Finish training neg data\n",
      "Training pos data\n",
      "Finish training pos data\n",
      "Computing TF\n",
      "Finish computing TF\n",
      "Computing IDF\n",
      "Done computing IDF\n",
      "Computing TF_IDF\n",
      "Done computing TF_IDF\n",
      "Accuracy with tf-idf = 83.756 %\n"
     ]
    }
   ],
   "source": [
    "if __name__ == '__main__':\n",
    "    main()"
   ]
  },
  {
   "cell_type": "code",
   "execution_count": null,
   "metadata": {},
   "outputs": [],
   "source": []
  },
  {
   "cell_type": "code",
   "execution_count": null,
   "metadata": {},
   "outputs": [],
   "source": []
  }
 ],
 "metadata": {
  "kernelspec": {
   "display_name": "Python 3",
   "language": "python",
   "name": "python3"
  },
  "language_info": {
   "codemirror_mode": {
    "name": "ipython",
    "version": 3
   },
   "file_extension": ".py",
   "mimetype": "text/x-python",
   "name": "python",
   "nbconvert_exporter": "python",
   "pygments_lexer": "ipython3",
   "version": "3.7.1"
  }
 },
 "nbformat": 4,
 "nbformat_minor": 2
}
