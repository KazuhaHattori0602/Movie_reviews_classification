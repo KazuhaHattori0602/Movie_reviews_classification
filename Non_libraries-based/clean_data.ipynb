{
 "cells": [
  {
   "cell_type": "code",
   "execution_count": 3,
   "metadata": {},
   "outputs": [],
   "source": [
    "import os\n",
    "import re\n",
    "import io"
   ]
  },
  {
   "cell_type": "code",
   "execution_count": 1,
   "metadata": {},
   "outputs": [],
   "source": [
    "#list all files in pathed directory\n",
    "def all_files(path):\n",
    "    list_of_file = []\n",
    "    for path, subdirs, files in os.walk(path):\n",
    "        for name in files:\n",
    "            list_of_file.append(os.path.join(path, name))\n",
    "    return list_of_file\n"
   ]
  },
  {
   "cell_type": "code",
   "execution_count": 4,
   "metadata": {},
   "outputs": [],
   "source": [
    "#clean the raw data\n",
    "def clean_data(path):\n",
    "    list = all_files(path)\n",
    "    print ('Cleaning data...')\n",
    "    #clear unsuitable characters\n",
    "    for file in list:\n",
    "        with open(file, 'r+', encoding='utf8') as f:\n",
    "            data = f.read()\n",
    "            #Remove http\n",
    "            data = re.sub(r'http\\S+', \" \", data)\n",
    "            #Remove html tags\n",
    "            data = re.sub(r'<.*?>', \" \", data)\n",
    "            #Remove all .com\n",
    "            data = re.sub(r'.*?\\.com', \" \", data)\n",
    "            #Remove all www.\n",
    "            data = re.sub(r'www\\.*?', \" \", data)\n",
    "            #Remove all non characters a-z and A-Z\n",
    "            data = re.sub(r'([^a-zA-z\\s]+)', \" \", data)\n",
    "            #Remove NEL\n",
    "            data = data.replace(u'\\x85', u'\\n')\n",
    "            #Convert all text to lower cases:\n",
    "            data = data.lower()\n",
    "            f.seek(0)\n",
    "            f.write(data)\n",
    "            f.truncate()\n",
    "        #f.close()\n",
    "    print ('Done cleaning')"
   ]
  },
  {
   "cell_type": "code",
   "execution_count": null,
   "metadata": {},
   "outputs": [],
   "source": []
  }
 ],
 "metadata": {
  "kernelspec": {
   "display_name": "Python 3",
   "language": "python",
   "name": "python3"
  },
  "language_info": {
   "codemirror_mode": {
    "name": "ipython",
    "version": 3
   },
   "file_extension": ".py",
   "mimetype": "text/x-python",
   "name": "python",
   "nbconvert_exporter": "python",
   "pygments_lexer": "ipython3",
   "version": "3.7.1"
  }
 },
 "nbformat": 4,
 "nbformat_minor": 2
}
