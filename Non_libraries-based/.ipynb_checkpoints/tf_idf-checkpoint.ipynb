{
 "cells": [
  {
   "cell_type": "code",
   "execution_count": 1,
   "metadata": {},
   "outputs": [],
   "source": [
    "#compute TF\n",
    "def compute_TF(list_of_word_fre):\n",
    "    print ('Computing TF')\n",
    "    '''\n",
    "    for i in range(len(list_of_text)):\n",
    "        tf_dict = {}\n",
    "        word_in_text = len(list_of_text[i])\n",
    "        for word, count in list_of_vec[i].items():\n",
    "            tf_dict[word] = count / float(word_in_text)\n",
    "        list_of_tf.append(tf_dict)\n",
    "    '''\n",
    "    for word_fre in list_of_word_fre:\n",
    "        total_words = 0\n",
    "        for fre in word_fre.values():\n",
    "            total_words += fre\n",
    "        for key in word_fre.keys():\n",
    "            word_fre[key] /= total_words\n",
    "    print ('Finish computing TF')\n",
    "    return list_of_word_fre"
   ]
  },
  {
   "cell_type": "code",
   "execution_count": 2,
   "metadata": {},
   "outputs": [],
   "source": [
    "#compute IDF\n",
    "def compute_IDF(list_of_word_fre, vocab_list_len):\n",
    "    import math\n",
    "    idf_list = [0 for i in range(vocab_list_len)]\n",
    "    total_doc = len(list_of_word_fre)\n",
    "    print ('Computing IDF')\n",
    "    for word_fre_dict in list_of_word_fre:\n",
    "        for word_id in word_fre_dict.keys():\n",
    "            idf_list[word_id] += 1\n",
    "    for word_id in range(vocab_list_len):\n",
    "        idf_list[word_id] = math.log(total_doc/(1 + idf_list[word_id]))\n",
    "    print ('Done computing IDF')\n",
    "    return idf_list"
   ]
  },
  {
   "cell_type": "code",
   "execution_count": 3,
   "metadata": {},
   "outputs": [],
   "source": [
    "#compute TF-IDF\n",
    "def compute_TF_IDF(list_of_word_fre, vocab_list_len):\n",
    "    list_of_tf = compute_TF(list_of_word_fre)\n",
    "    idf_list = compute_IDF(list_of_word_fre, vocab_list_len)\n",
    "    print ('Computing TF_IDF')\n",
    "    for tf in list_of_tf:\n",
    "        for word_id, fre in tf.items():\n",
    "            tf[word_id] = fre * idf_list[word_id]\n",
    "    print ('Done computing TF_IDF')\n",
    "    return list_of_tf"
   ]
  },
  {
   "cell_type": "code",
   "execution_count": null,
   "metadata": {},
   "outputs": [],
   "source": []
  }
 ],
 "metadata": {
  "kernelspec": {
   "display_name": "Python 3",
   "language": "python",
   "name": "python3"
  },
  "language_info": {
   "codemirror_mode": {
    "name": "ipython",
    "version": 3
   },
   "file_extension": ".py",
   "mimetype": "text/x-python",
   "name": "python",
   "nbconvert_exporter": "python",
   "pygments_lexer": "ipython3",
   "version": "3.7.1"
  }
 },
 "nbformat": 4,
 "nbformat_minor": 2
}
