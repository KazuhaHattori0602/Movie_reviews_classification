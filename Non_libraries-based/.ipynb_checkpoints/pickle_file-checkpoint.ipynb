{
 "cells": [
  {
   "cell_type": "code",
   "execution_count": 1,
   "metadata": {},
   "outputs": [],
   "source": [
    "import pickle"
   ]
  },
  {
   "cell_type": "code",
   "execution_count": 2,
   "metadata": {},
   "outputs": [],
   "source": [
    "#Save list, dict to pickle file\n",
    "def dump_to_file(file_path, object):\n",
    "    with open (file_path, 'wb') as file:\n",
    "        pickle.dump(object, file, protocol = pickle.HIGHEST_PROTOCOL)\n",
    "\n",
    "#Load list, dict from pickle file\n",
    "def load_from_file(file_path):\n",
    "    with open(file_path, 'rb') as file:\n",
    "        object = pickle.load(file)\n",
    "    return object"
   ]
  },
  {
   "cell_type": "code",
   "execution_count": null,
   "metadata": {},
   "outputs": [],
   "source": []
  }
 ],
 "metadata": {
  "kernelspec": {
   "display_name": "Python 3",
   "language": "python",
   "name": "python3"
  },
  "language_info": {
   "codemirror_mode": {
    "name": "ipython",
    "version": 3
   },
   "file_extension": ".py",
   "mimetype": "text/x-python",
   "name": "python",
   "nbconvert_exporter": "python",
   "pygments_lexer": "ipython3",
   "version": "3.7.1"
  }
 },
 "nbformat": 4,
 "nbformat_minor": 2
}
