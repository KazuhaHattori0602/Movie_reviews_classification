{
 "cells": [
  {
   "cell_type": "code",
   "execution_count": 2,
   "metadata": {},
   "outputs": [],
   "source": [
    "from sklearn.naive_bayes import MultinomialNB"
   ]
  },
  {
   "cell_type": "code",
   "execution_count": 1,
   "metadata": {},
   "outputs": [],
   "source": [
    "#convert list of mini dict to list of full list\n",
    "def convert(list_of_word_fre, vocab_set_len):\n",
    "    list_of_vector = []\n",
    "    print ('Converting list of mini dict to list of full list')\n",
    "    for words_fre in list_of_word_fre:\n",
    "        one_vector = [0 for i in range(vocab_set_len)]\n",
    "        for word_id, value in words_fre.items():\n",
    "            one_vector[word_id] += value\n",
    "        list_of_vector.append(one_vector)\n",
    "    print ('Finished converting list of mini dict to list of full list')\n",
    "    return list_of_vector"
   ]
  },
  {
   "cell_type": "code",
   "execution_count": 4,
   "metadata": {},
   "outputs": [],
   "source": [
    "#set labels\n",
    "def set_label(num_neg = 12500, num_pos = 12500,first = 'neg', second = 'pos'):\n",
    "    labels = []\n",
    "    for i in range(num_neg):\n",
    "        labels.append(first)\n",
    "    for i in range(num_pos):\n",
    "        labels.append(second)\n",
    "    return labels"
   ]
  },
  {
   "cell_type": "code",
   "execution_count": 6,
   "metadata": {},
   "outputs": [],
   "source": [
    "#train dataset\n",
    "def train_for_clf(train_data, train_labels):\n",
    "    clf = MultinomialNB()\n",
    "    print ('Training for clfer')\n",
    "    clf.fit(train_data, train_labels)\n",
    "    print ('Finished training')\n",
    "    return clf"
   ]
  },
  {
   "cell_type": "code",
   "execution_count": 4,
   "metadata": {},
   "outputs": [],
   "source": [
    "#non-libraries\n",
    "def sub_train(list_of_word_fre, training_vocab_size):\n",
    "    pretrain_dict = {}\n",
    "    for dict_word_fre in list_of_word_fre:\n",
    "        for index, fre in dict_word_fre.items():\n",
    "            if index not in pretrain_dict.keys():\n",
    "                pretrain_dict[index] = fre\n",
    "            else:\n",
    "                pretrain_dict[index] += fre\n",
    "    for index in range (training_vocab_size):\n",
    "        if index not in pretrain_dict.keys():\n",
    "            pretrain_dict[index] = 0\n",
    "    N = 0\n",
    "    for value in pretrain_dict.values():\n",
    "        N += value\n",
    "    N += training_vocab_size # Laplace smoothing\n",
    "    for index, fre in pretrain_dict.items():\n",
    "        pretrain_dict[index] = (pretrain_dict[index] + 1) / N # Laplace smoothing\n",
    "    return pretrain_dict"
   ]
  },
  {
   "cell_type": "code",
   "execution_count": 5,
   "metadata": {},
   "outputs": [],
   "source": [
    "def train(list_of_word_fre, training_vocab_size, neg_vocab_size):\n",
    "    print ('Training neg data')\n",
    "    neg_pretrain_dict = sub_train(list_of_word_fre[:neg_vocab_size],training_vocab_size)\n",
    "    print ('Finish training neg data')\n",
    "    print ('Training pos data')\n",
    "    pos_pretrain_dict = sub_train(list_of_word_fre[neg_vocab_size:],training_vocab_size)\n",
    "    print ('Finish training pos data')\n",
    "    return neg_pretrain_dict, pos_pretrain_dict"
   ]
  },
  {
   "cell_type": "code",
   "execution_count": 6,
   "metadata": {},
   "outputs": [],
   "source": [
    "def predict(neg_pretrain_dict, pos_pretrain_dict, test_list_of_word_fre, test_label):\n",
    "    import math\n",
    "    predict_label = []\n",
    "    #count for neg\n",
    "    for dict_word_fre in test_list_of_word_fre:\n",
    "        neg_predict = 0\n",
    "        pos_predict = 0\n",
    "        for index, fre in dict_word_fre.items():\n",
    "            neg_predict += math.log(neg_pretrain_dict[index])*fre\n",
    "            pos_predict += math.log(pos_pretrain_dict[index])*fre\n",
    "        if neg_predict > pos_predict:\n",
    "            predict_label.append('neg')\n",
    "        else:\n",
    "            predict_label.append('pos')\n",
    "    count = 0\n",
    "    total_label = len(test_label)\n",
    "    for i in range(total_label):\n",
    "        if predict_label[i] == test_label[i]:\n",
    "            count += 1\n",
    "    accuracy = count / total_label\n",
    "    return accuracy\n",
    "        \n",
    "        "
   ]
  },
  {
   "cell_type": "code",
   "execution_count": null,
   "metadata": {},
   "outputs": [],
   "source": []
  }
 ],
 "metadata": {
  "kernelspec": {
   "display_name": "Python 3",
   "language": "python",
   "name": "python3"
  },
  "language_info": {
   "codemirror_mode": {
    "name": "ipython",
    "version": 3
   },
   "file_extension": ".py",
   "mimetype": "text/x-python",
   "name": "python",
   "nbconvert_exporter": "python",
   "pygments_lexer": "ipython3",
   "version": "3.7.1"
  }
 },
 "nbformat": 4,
 "nbformat_minor": 2
}
